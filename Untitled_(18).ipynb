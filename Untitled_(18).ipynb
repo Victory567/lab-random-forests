{
  "cells": [
    {
      "cell_type": "markdown",
      "metadata": {
        "id": "view-in-github",
        "colab_type": "text"
      },
      "source": [
        "<a href=\"https://colab.research.google.com/github/Victory567/lab-random-forests/blob/master/Untitled_(18).ipynb\" target=\"_parent\"><img src=\"https://colab.research.google.com/assets/colab-badge.svg\" alt=\"Open In Colab\"/></a>"
      ]
    },
    {
      "cell_type": "code",
      "execution_count": null,
      "id": "dc91b9d7",
      "metadata": {
        "id": "dc91b9d7"
      },
      "outputs": [],
      "source": [
        "import pandas as pd\n",
        "from sklearn.ensemble import RandomForestClassifier\n",
        "from sklearn.model_selection import train_test_split\n",
        "from sklearn.metrics import accuracy_score\n",
        "from imblearn.over_sampling import SMOTE"
      ]
    },
    {
      "cell_type": "code",
      "execution_count": null,
      "id": "163a6c04",
      "metadata": {
        "id": "163a6c04"
      },
      "outputs": [],
      "source": [
        "# Load the data into a DataFrame\n",
        "df = pd.read_csv('numerical.csv')\n",
        "df = pd.read_csv('categorical.csv')\n",
        "df = pd.read_csv('target.csv')\n",
        "\n"
      ]
    },
    {
      "cell_type": "code",
      "execution_count": null,
      "id": "ea465f96",
      "metadata": {
        "id": "ea465f96",
        "outputId": "ca1ebf4e-8c35-4e8e-97b3-a368d5e05766"
      },
      "outputs": [
        {
          "data": {
            "text/plain": [
              "<bound method DataFrame.info of        TARGET_B  TARGET_D\n",
              "0             0       0.0\n",
              "1             0       0.0\n",
              "2             0       0.0\n",
              "3             0       0.0\n",
              "4             0       0.0\n",
              "...         ...       ...\n",
              "95407         0       0.0\n",
              "95408         0       0.0\n",
              "95409         0       0.0\n",
              "95410         1      18.0\n",
              "95411         0       0.0\n",
              "\n",
              "[95412 rows x 2 columns]>"
            ]
          },
          "execution_count": 7,
          "metadata": {},
          "output_type": "execute_result"
        }
      ],
      "source": [
        "df.info"
      ]
    },
    {
      "cell_type": "code",
      "execution_count": null,
      "id": "552e0655",
      "metadata": {
        "id": "552e0655"
      },
      "outputs": [],
      "source": [
        "# I separated the target variable from the features\n",
        "# then Upsampled the data using SMOTE\n",
        "# splitted the data into training and testing sets\n",
        "# I created a Random Forest Classifier object\n",
        "# To fit the model on the training data\n",
        "#I then predicted the labels for the testing data\n",
        "# And computed the accuracy of the model"
      ]
    },
    {
      "cell_type": "code",
      "execution_count": null,
      "id": "05c33c36",
      "metadata": {
        "id": "05c33c36",
        "outputId": "5f6eea86-8ac1-4e15-8370-89f5d585d5f5"
      },
      "outputs": [
        {
          "name": "stdout",
          "output_type": "stream",
          "text": [
            "Accuracy: 1.0\n"
          ]
        }
      ],
      "source": [
        "\n",
        "X = df.drop('TARGET_B', axis=1)\n",
        "y = df['TARGET_B']\n",
        "\n",
        "sm = SMOTE(random_state=42)\n",
        "X_resampled, y_resampled = sm.fit_resample(X, y)\n",
        "X_train, X_test, y_train, y_test = train_test_split(X_resampled, y_resampled, test_size=0.3, random_state=42)\n",
        "\n",
        "clf = RandomForestClassifier(n_estimators=100, random_state=42)\n",
        "clf.fit(X_train, y_train)\n",
        "y_pred = clf.predict(X_test)\n",
        "accuracy = accuracy_score(y_test, y_pred)\n",
        "print(\"Accuracy:\", accuracy)"
      ]
    },
    {
      "cell_type": "code",
      "execution_count": null,
      "id": "c4909ed6",
      "metadata": {
        "id": "c4909ed6"
      },
      "outputs": [],
      "source": []
    }
  ],
  "metadata": {
    "kernelspec": {
      "display_name": "Python 3 (ipykernel)",
      "language": "python",
      "name": "python3"
    },
    "language_info": {
      "codemirror_mode": {
        "name": "ipython",
        "version": 3
      },
      "file_extension": ".py",
      "mimetype": "text/x-python",
      "name": "python",
      "nbconvert_exporter": "python",
      "pygments_lexer": "ipython3",
      "version": "3.9.12"
    },
    "colab": {
      "provenance": [],
      "include_colab_link": true
    }
  },
  "nbformat": 4,
  "nbformat_minor": 5
}